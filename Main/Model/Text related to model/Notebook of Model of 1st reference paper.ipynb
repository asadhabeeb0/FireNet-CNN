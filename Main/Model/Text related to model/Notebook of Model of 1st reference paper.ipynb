{
  "nbformat": 4,
  "nbformat_minor": 0,
  "metadata": {
    "colab": {
      "provenance": []
    },
    "kernelspec": {
      "name": "python3",
      "display_name": "Python 3"
    },
    "language_info": {
      "name": "python"
    }
  },
  "cells": [
    {
      "cell_type": "code",
      "execution_count": 1,
      "metadata": {
        "id": "-3j5ayQaj4ur"
      },
      "outputs": [],
      "source": [
        "import os\n",
        "import keras\n",
        "import numpy as np\n",
        "import tensorflow as tf\n",
        "import matplotlib.pyplot as plt\n",
        "from keras.models import Sequential\n",
        "from tensorflow.keras.optimizers import Adam\n",
        "from tensorflow.keras.preprocessing import image\n",
        "from tensorflow.keras.layers import Conv2D, Dropout, Flatten, Dense, Activation, MaxPool2D"
      ]
    },
    {
      "cell_type": "code",
      "source": [
        "from google.colab import drive\n",
        "drive.mount('/content/drive')"
      ],
      "metadata": {
        "colab": {
          "base_uri": "https://localhost:8080/"
        },
        "id": "_WJgnPzKkC6Q",
        "outputId": "ab72a55f-a85e-46fb-9a72-98ac6560aa07"
      },
      "execution_count": 2,
      "outputs": [
        {
          "output_type": "stream",
          "name": "stdout",
          "text": [
            "Mounted at /content/drive\n"
          ]
        }
      ]
    },
    {
      "cell_type": "code",
      "source": [
        "# training data augmentation\n",
        "train_datagen =image.ImageDataGenerator(\n",
        "   rescale =1/255, horizontal_flip =True ,zoom_range =0.2, shear_range =0.2) \n",
        "train_data =train_datagen.flow_from_directory(directory=\"/content/drive/MyDrive/Data/Train\",target_size= (64,64), \n",
        "                                              batch_size= 16,class_mode = 'categorical')"
      ],
      "metadata": {
        "colab": {
          "base_uri": "https://localhost:8080/"
        },
        "id": "WVBDsT--kaSP",
        "outputId": "353a459d-4cbe-4cbc-f3b8-1ab3d5d6f805"
      },
      "execution_count": 3,
      "outputs": [
        {
          "output_type": "stream",
          "name": "stdout",
          "text": [
            "Found 2425 images belonging to 2 classes.\n"
          ]
        }
      ]
    },
    {
      "cell_type": "code",
      "source": [
        "test_data.class_indices"
      ],
      "metadata": {
        "id": "GX99IsCSPkx9"
      },
      "execution_count": null,
      "outputs": []
    },
    {
      "cell_type": "code",
      "source": [
        "# test data augmentation\n",
        "test_datagen =image.ImageDataGenerator(\n",
        "   rescale =1/255)\n",
        "test_data =test_datagen.flow_from_directory(directory=\"/content/drive/MyDrive/Data/Test\",target_size= (64,64),\n",
        "                                             batch_size = 16,\n",
        "                                             class_mode = 'categorical')"
      ],
      "metadata": {
        "colab": {
          "base_uri": "https://localhost:8080/"
        },
        "id": "pP8f3Z3AlPOx",
        "outputId": "852f7903-4d5a-468e-e9a5-3282b233de1b"
      },
      "execution_count": 4,
      "outputs": [
        {
          "output_type": "stream",
          "name": "stdout",
          "text": [
            "Found 871 images belonging to 2 classes.\n"
          ]
        }
      ]
    },
    {
      "cell_type": "code",
      "source": [
        "test_data.class_indices"
      ],
      "metadata": {
        "id": "trjrylOulVtc"
      },
      "execution_count": null,
      "outputs": []
    },
    {
      "cell_type": "code",
      "source": [
        "# Define a function to plot images and their labels\n",
        "def plot_images(images, labels, title):\n",
        "    fig, axs = plt.subplots(nrows=1, ncols=len(images), figsize=(15,5))\n",
        "    fig.suptitle(title, fontsize=16)\n",
        "\n",
        "    for i in range(len(images)):\n",
        "        axs[i].imshow(images[i])\n",
        "        axs[i].set_title('Label: ' + str(labels[i]))\n",
        "        axs[i].axis('off')\n",
        "\n",
        "    plt.show()\n",
        "\n",
        "# Select 5 random images from the Train dataset\n",
        "train_image_paths = np.random.choice(train_data.filepaths, size=5, replace=False)\n",
        "train_images = [image.load_img(path, target_size=(256,256)) for path in train_image_paths]\n",
        "train_labels = [os.path.basename(os.path.dirname(path)) for path in train_image_paths]\n",
        "\n",
        "# Select 5 random images from the Test dataset\n",
        "test_image_paths = np.random.choice(test_data.filepaths, size=5, replace=False)\n",
        "test_images = [image.load_img(path, target_size=(256,256)) for path in test_image_paths]\n",
        "test_labels = [os.path.basename(os.path.dirname(path)) for path in test_image_paths]\n",
        "\n",
        "# Convert images to arrays\n",
        "train_images = np.array([image.img_to_array(img) for img in train_images])\n",
        "test_images = np.array([image.img_to_array(img) for img in test_images])\n",
        "\n",
        "# Rescale pixel values to range [0, 1]\n",
        "train_images = train_images / 255.0\n",
        "test_images = test_images / 255.0\n",
        "\n",
        "# Plot the selected images with their labels\n",
        "plot_images(train_images, train_labels, 'Randomly selected images from the Train dataset')\n",
        "plot_images(test_images, test_labels, 'Randomly selected images from the Test dataset')"
      ],
      "metadata": {
        "id": "f21Q1Y1AlVvf"
      },
      "execution_count": null,
      "outputs": []
    },
    {
      "cell_type": "code",
      "source": [
        "model = Sequential()\n",
        "\n",
        "model.add(Conv2D(32, kernel_size=(3,3), activation='relu', input_shape = (64,64,3), use_bias=True))\n",
        "model.add(MaxPool2D(pool_size=(2,2)))\n",
        "model.add(Dropout(rate=0.5))\n",
        "\n",
        "model.add(Conv2D(32, kernel_size=(3,3), activation='relu', input_shape = (64,64,3), use_bias=True))\n",
        "model.add(MaxPool2D(pool_size=(2,2)))\n",
        "model.add(Dropout(rate=0.5))\n",
        "\n",
        "model.add(Conv2D(64, kernel_size=(3,3), activation='relu', use_bias=True))\n",
        "model.add(MaxPool2D(pool_size=(2,2)))\n",
        "model.add(Dropout(rate=0.5))\n",
        "\n",
        "model.add(Flatten())\n",
        "model.add(Dense(256, activation= 'relu', use_bias=True))\n",
        "model.add(Dropout(rate=0.2))\n",
        "\n",
        "model.add(Dense(32, activation= 'relu', use_bias=True))\n",
        "\n",
        "model.add(Dense(2, activation='softmax', use_bias=True))\n",
        "\n",
        "model.compile(optimizer=Adam(), loss='categorical_crossentropy', metrics=['accuracy'])"
      ],
      "metadata": {
        "id": "tnj4s9AOlVzD"
      },
      "execution_count": 23,
      "outputs": []
    },
    {
      "cell_type": "code",
      "source": [
        "model.summary()"
      ],
      "metadata": {
        "colab": {
          "base_uri": "https://localhost:8080/"
        },
        "id": "noB2Vhrx5g5_",
        "outputId": "05794966-81d6-4895-825d-a05474095258"
      },
      "execution_count": 24,
      "outputs": [
        {
          "output_type": "stream",
          "name": "stdout",
          "text": [
            "Model: \"sequential_3\"\n",
            "_________________________________________________________________\n",
            " Layer (type)                Output Shape              Param #   \n",
            "=================================================================\n",
            " conv2d_9 (Conv2D)           (None, 62, 62, 32)        896       \n",
            "                                                                 \n",
            " max_pooling2d_9 (MaxPooling  (None, 31, 31, 32)       0         \n",
            " 2D)                                                             \n",
            "                                                                 \n",
            " dropout_12 (Dropout)        (None, 31, 31, 32)        0         \n",
            "                                                                 \n",
            " conv2d_10 (Conv2D)          (None, 29, 29, 32)        9248      \n",
            "                                                                 \n",
            " max_pooling2d_10 (MaxPoolin  (None, 14, 14, 32)       0         \n",
            " g2D)                                                            \n",
            "                                                                 \n",
            " dropout_13 (Dropout)        (None, 14, 14, 32)        0         \n",
            "                                                                 \n",
            " conv2d_11 (Conv2D)          (None, 12, 12, 64)        18496     \n",
            "                                                                 \n",
            " max_pooling2d_11 (MaxPoolin  (None, 6, 6, 64)         0         \n",
            " g2D)                                                            \n",
            "                                                                 \n",
            " dropout_14 (Dropout)        (None, 6, 6, 64)          0         \n",
            "                                                                 \n",
            " flatten_3 (Flatten)         (None, 2304)              0         \n",
            "                                                                 \n",
            " dense_9 (Dense)             (None, 256)               590080    \n",
            "                                                                 \n",
            " dropout_15 (Dropout)        (None, 256)               0         \n",
            "                                                                 \n",
            " dense_10 (Dense)            (None, 32)                8224      \n",
            "                                                                 \n",
            " dense_11 (Dense)            (None, 2)                 66        \n",
            "                                                                 \n",
            "=================================================================\n",
            "Total params: 627,010\n",
            "Trainable params: 627,010\n",
            "Non-trainable params: 0\n",
            "_________________________________________________________________\n"
          ]
        }
      ]
    },
    {
      "cell_type": "code",
      "source": [
        "cnnModel = model.fit(train_data, steps_per_epoch=150, epochs=17, validation_data=test_data)"
      ],
      "metadata": {
        "colab": {
          "base_uri": "https://localhost:8080/"
        },
        "id": "weCTirGJlV32",
        "outputId": "ed5af60f-155d-41ff-e45a-f0b0933cc99c"
      },
      "execution_count": 15,
      "outputs": [
        {
          "output_type": "stream",
          "name": "stdout",
          "text": [
            "Epoch 1/17\n",
            "150/150 [==============================] - 63s 415ms/step - loss: 0.1684 - accuracy: 0.9398 - val_loss: 0.6424 - val_accuracy: 0.6498\n",
            "Epoch 2/17\n",
            "150/150 [==============================] - 62s 416ms/step - loss: 0.1367 - accuracy: 0.9419 - val_loss: 0.5577 - val_accuracy: 0.7440\n",
            "Epoch 3/17\n",
            "150/150 [==============================] - 65s 433ms/step - loss: 0.1742 - accuracy: 0.9344 - val_loss: 0.3095 - val_accuracy: 0.8726\n",
            "Epoch 4/17\n",
            "150/150 [==============================] - 65s 431ms/step - loss: 0.1616 - accuracy: 0.9373 - val_loss: 0.5124 - val_accuracy: 0.7532\n",
            "Epoch 5/17\n",
            "150/150 [==============================] - 61s 407ms/step - loss: 0.1513 - accuracy: 0.9386 - val_loss: 0.3309 - val_accuracy: 0.8898\n",
            "Epoch 6/17\n",
            "150/150 [==============================] - 65s 432ms/step - loss: 0.1522 - accuracy: 0.9407 - val_loss: 0.2337 - val_accuracy: 0.9116\n",
            "Epoch 7/17\n",
            "150/150 [==============================] - 64s 428ms/step - loss: 0.1296 - accuracy: 0.9486 - val_loss: 0.3018 - val_accuracy: 0.8565\n",
            "Epoch 8/17\n",
            "150/150 [==============================] - 64s 426ms/step - loss: 0.1330 - accuracy: 0.9503 - val_loss: 0.2323 - val_accuracy: 0.9150\n",
            "Epoch 9/17\n",
            "150/150 [==============================] - 65s 434ms/step - loss: 0.1445 - accuracy: 0.9469 - val_loss: 0.2159 - val_accuracy: 0.9150\n",
            "Epoch 10/17\n",
            "150/150 [==============================] - 65s 437ms/step - loss: 0.1551 - accuracy: 0.9352 - val_loss: 0.4756 - val_accuracy: 0.7646\n",
            "Epoch 11/17\n",
            "150/150 [==============================] - 64s 429ms/step - loss: 0.1331 - accuracy: 0.9557 - val_loss: 0.3360 - val_accuracy: 0.8886\n",
            "Epoch 12/17\n",
            "150/150 [==============================] - 62s 415ms/step - loss: 0.1298 - accuracy: 0.9519 - val_loss: 0.4396 - val_accuracy: 0.8094\n",
            "Epoch 13/17\n",
            "150/150 [==============================] - 63s 418ms/step - loss: 0.1108 - accuracy: 0.9549 - val_loss: 0.4012 - val_accuracy: 0.8335\n",
            "Epoch 14/17\n",
            "150/150 [==============================] - 65s 438ms/step - loss: 0.1212 - accuracy: 0.9503 - val_loss: 0.4570 - val_accuracy: 0.8507\n",
            "Epoch 15/17\n",
            "150/150 [==============================] - 61s 406ms/step - loss: 0.1165 - accuracy: 0.9536 - val_loss: 0.5279 - val_accuracy: 0.8037\n",
            "Epoch 16/17\n",
            "150/150 [==============================] - 62s 417ms/step - loss: 0.1294 - accuracy: 0.9448 - val_loss: 0.2767 - val_accuracy: 0.8875\n",
            "Epoch 17/17\n",
            "150/150 [==============================] - 62s 411ms/step - loss: 0.1164 - accuracy: 0.9590 - val_loss: 0.3098 - val_accuracy: 0.8737\n"
          ]
        }
      ]
    },
    {
      "cell_type": "code",
      "source": [
        "path =\"/content/drive/MyDrive/Data/Test/Fire/fire (126).jpg\"\n",
        "\n",
        "img =image.load_img(path,target_size=(64,64))\n",
        "img =image.img_to_array(img)/255\n",
        "img =np.array([img])\n",
        "img.shape\n",
        "prediction = model.predict(img)\n",
        "if prediction.any() > 0.5:\n",
        "    print('Fire detected')\n",
        "else:\n",
        "    print('No Fire detected.')"
      ],
      "metadata": {
        "colab": {
          "base_uri": "https://localhost:8080/"
        },
        "id": "tSuecLJ9lV6B",
        "outputId": "f7063b6a-d0c3-4b64-c069-5bb4b7899134"
      },
      "execution_count": 22,
      "outputs": [
        {
          "output_type": "stream",
          "name": "stdout",
          "text": [
            "1/1 [==============================] - 0s 20ms/step\n",
            "Fire detected\n"
          ]
        }
      ]
    },
    {
      "cell_type": "code",
      "source": [
        "path =\"/content/drive/MyDrive/new/Fire/fire7.jpg\"\n",
        "\n",
        "img =image.load_img(path,target_size=(64,64))\n",
        "img =image.img_to_array(img)/255\n",
        "img =np.array([img])\n",
        "img.shape\n",
        "prediction = model.predict(img)\n",
        "if prediction.any() > 0.5:\n",
        "    print('Fire detected')\n",
        "else:\n",
        "    print('No Fire detected.')"
      ],
      "metadata": {
        "colab": {
          "base_uri": "https://localhost:8080/"
        },
        "id": "M5QyiS6IPTjS",
        "outputId": "0c72372c-674b-4b2b-a6c8-712181272bc4"
      },
      "execution_count": 25,
      "outputs": [
        {
          "output_type": "stream",
          "name": "stdout",
          "text": [
            "1/1 [==============================] - 0s 74ms/step\n",
            "Fire detected\n"
          ]
        }
      ]
    },
    {
      "cell_type": "code",
      "source": [
        "# Get information about the trainable parameters\n",
        "num_trainable_params = np.sum([np.prod(v.get_shape().as_list()) for v in model.trainable_variables])\n",
        "print(f'Number of Trainable Parameters: {num_trainable_params}')\n",
        "\n",
        "# Get predictions for the test set\n",
        "y_true = test_data.labels\n",
        "y_pred = np.argmax(model.predict(test_data), axis=-1)\n",
        "\n",
        "# Get classification report for precision, recall, and accuracy\n",
        "report = classification_report(y_true, y_pred, target_names=test_data.class_indices.keys())\n",
        "\n",
        "# Print the classification report as a table\n",
        "print(report)"
      ],
      "metadata": {
        "id": "wHNvlkO4lp5B"
      },
      "execution_count": null,
      "outputs": []
    }
  ]
}